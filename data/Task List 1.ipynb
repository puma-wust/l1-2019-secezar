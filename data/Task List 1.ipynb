{
 "cells": [
  {
   "cell_type": "markdown",
   "metadata": {},
   "source": [
    "# 2018/2019 - Task List 1\n",
    "\n",
    "1. Generate random variable from prefered dystribution using Pyro (pyro.sample)\n",
    "    \n",
    "    - animate how distribution of values changes\n",
    "    - animate histograms of values\n",
    "    - start with empty list of values, generate new samples, generate histogram\n",
    "    \n",
    "    \n",
    "2. Write a simulator (and exact solution utilizing Bayes theorem) for chances to be ill on a certain disease. We know that it affects from about 1 to 100 out of 50,000 people. There was developed a test to check whether the person has the disease and it is quite accurate: the probability that the test result is positive (suggesting the person has the disease), given that the person does not have the disease, is only 2 percent; the probability that the test result is negative (suggesting the person does not have the disease), given that the person has the disease, is only 1 percent. When a random person gets tested for the disease and the result comes back positive, what is the probability that the person has the disease? Check whole parameter space and visualise results.\n",
    "\n",
    "    - it must be a simulator!\n",
    "    - sample from distribution using given probabilities\n",
    "    - repeate experiment and compare with Bayes equation\n"
   ]
  },
  {
   "cell_type": "markdown",
   "metadata": {},
   "source": [
    "## Required imports"
   ]
  },
  {
   "cell_type": "code",
   "execution_count": 5,
   "metadata": {},
   "outputs": [
    {
     "data": {
      "text/html": [
       "<script type=\"text/javascript\">window.PlotlyConfig = {MathJaxConfig: 'local'};</script><script type=\"text/javascript\">if (window.MathJax) {MathJax.Hub.Config({SVG: {font: \"STIX-Web\"}});}</script><script>requirejs.config({paths: { 'plotly': ['https://cdn.plot.ly/plotly-latest.min']},});if(!window._Plotly) {require(['plotly'],function(plotly) {window._Plotly=plotly;});}</script>"
      ],
      "text/vnd.plotly.v1+html": [
       "<script type=\"text/javascript\">window.PlotlyConfig = {MathJaxConfig: 'local'};</script><script type=\"text/javascript\">if (window.MathJax) {MathJax.Hub.Config({SVG: {font: \"STIX-Web\"}});}</script><script>requirejs.config({paths: { 'plotly': ['https://cdn.plot.ly/plotly-latest.min']},});if(!window._Plotly) {require(['plotly'],function(plotly) {window._Plotly=plotly;});}</script>"
      ]
     },
     "metadata": {},
     "output_type": "display_data"
    }
   ],
   "source": [
    "%matplotlib inline\n",
    "import matplotlib.pyplot as plt\n",
    "import numpy as np\n",
    "import plotly.graph_objs as go\n",
    "import pyro\n",
    "import torch\n",
    "\n",
    "from matplotlib import animation, rc\n",
    "from IPython.display import HTML\n",
    "from plotly.offline import download_plotlyjs, init_notebook_mode, iplot\n",
    "\n",
    "\n",
    "init_notebook_mode(connected=True)"
   ]
  },
  {
   "cell_type": "markdown",
   "metadata": {},
   "source": [
    "## Generating single value from normal distribution with given mean and variance"
   ]
  },
  {
   "cell_type": "code",
   "execution_count": null,
   "metadata": {},
   "outputs": [],
   "source": [
    "mean = 0\n",
    "variance = 10\n",
    "x = pyro.sample(\"normal_sampling\", pyro.distributions.Normal(mean, variance))\n",
    "print(x)"
   ]
  },
  {
   "cell_type": "markdown",
   "metadata": {},
   "source": [
    "## Sampling from categorical probabilities with given probabilities"
   ]
  },
  {
   "cell_type": "code",
   "execution_count": null,
   "metadata": {},
   "outputs": [],
   "source": [
    "x = pyro.sample(\"categorical_sampling\", pyro.distributions.Categorical(logits = torch.tensor([0.5, 0.5])))\n",
    "print(x)"
   ]
  },
  {
   "cell_type": "markdown",
   "metadata": {},
   "source": [
    "## Animating data"
   ]
  },
  {
   "cell_type": "code",
   "execution_count": null,
   "metadata": {},
   "outputs": [],
   "source": [
    "def animate():\n",
    "    # First set up the figure, the axis, and the plot element we want to animate\n",
    "    fig, ax = plt.subplots()\n",
    "\n",
    "    ax.set_xlim((-2, 2))\n",
    "    ax.set_ylim((0, 4))\n",
    "\n",
    "    line, = ax.plot([], [], lw=2)\n",
    "    \n",
    "    # animation function. This is called sequentially\n",
    "    def sin(variance):\n",
    "        mean = 0\n",
    "        x = [pyro.sample(\"normal_sampling\", pyro.distributions.Normal(mean, variance)) for _ in range(100)]\n",
    "        line = plt.hist(x, density=True, bins=30)\n",
    "        return (line,)\n",
    "\n",
    "    # initialization function: plot the background of each frame\n",
    "    def init():\n",
    "        line.set_data([], [])\n",
    "        return (line,)\n",
    "    # call the animator. blit=True means only re-draw the parts that have changed.\n",
    "    anim = animation.FuncAnimation(fig, sin, init_func=init,\n",
    "                                   frames=100, interval=20, blit=True)\n",
    "    return HTML(anim.to_jshtml())\n",
    "\n",
    "animate()"
   ]
  },
  {
   "cell_type": "markdown",
   "metadata": {},
   "source": [
    "\n",
    "## Drawing histogram"
   ]
  },
  {
   "cell_type": "code",
   "execution_count": null,
   "metadata": {},
   "outputs": [],
   "source": [
    "x = np.random.normal(size = 1000)\n",
    "plt.hist(x, density=True, bins=30)\n",
    "plt.ylabel('Probability');"
   ]
  },
  {
   "cell_type": "markdown",
   "metadata": {},
   "source": [
    "## Task 1"
   ]
  },
  {
   "cell_type": "code",
   "execution_count": null,
   "metadata": {},
   "outputs": [],
   "source": [
    "## Insert solution here\n",
    "\n",
    "mean = 0\n",
    "variances_count = 10\n",
    "\n",
    "def animate():\n",
    "    def update_hist(variance, mean):\n",
    "        x = [pyro.sample(\"normal_sampling\", pyro.distributions.Normal(mean, variance)) for _ in range(500)]\n",
    "        plt.cla()\n",
    "        plt.hist(x, bins=30)\n",
    "\n",
    "    fig = plt.figure()\n",
    "    hist = plt.hist([])\n",
    "\n",
    "    anim = animation.FuncAnimation(fig, update_hist, variances_count, fargs=(mean,))\n",
    "    return HTML(anim.to_jshtml())\n",
    "\n",
    "animate()"
   ]
  },
  {
   "cell_type": "markdown",
   "metadata": {},
   "source": [
    "## Task 2\n",
    "\n",
    "Write a simulator (and exact solution utilizing Bayes theorem) for chances to be ill on a certain disease. We know that it affects from about 1 to 100 out of 50,000 people. There was developed a test to check whether the person has the disease and it is quite accurate: the probability that the test result is positive (suggesting the person has the disease), given that the person does not have the disease, is only 2 percent; the probability that the test result is negative (suggesting the person does not have the disease), given that the person has the disease, is only 1 percent. When a random person gets tested for the disease and the result comes back positive, what is the probability that the person has the disease? Check whole parameter space and visualise results.\n",
    "\n",
    "    - it must be a simulator!\n",
    "    - sample from distribution using given probabilities\n",
    "    - repeate experiment and compare with Bayes equation\n"
   ]
  },
  {
   "cell_type": "code",
   "execution_count": 29,
   "metadata": {},
   "outputs": [],
   "source": [
    "## Insert solution here\n",
    "\n",
    "population_size = 50000\n",
    "disease_range = range(1, 101)\n",
    "\n",
    "negative_for_ill_probability = 0.01\n",
    "positive_for_ill_probability = 1 - negative_for_ill_probability\n",
    "positive_for_health_probability = 0.02\n",
    "negative_for_health_probability = 1 - positive_for_health_probability\n",
    "\n",
    "\n",
    "def naive_bayes(disease_count):\n",
    "    disease_probability = disease_count/population_size\n",
    "    health_probability = 1 - disease_probability\n",
    "    positive_if_ill_probability = disease_probability*positive_for_ill_probability\n",
    "    is_ill_probability = positive_if_ill_probability/(positive_if_ill_probability\n",
    "                                                      + health_probability*positive_for_health_probability)\n",
    "    return is_ill_probability\n",
    "\n",
    "\n",
    "def theorem_probabilities():\n",
    "    probabilities_results = {}\n",
    "    for disease_count in disease_range:\n",
    "        theorem_probability = naive_bayes(disease_count)\n",
    "        probabilities_results.update({disease_count:theorem_probability})\n",
    "    return probabilities_results\n",
    "\n",
    "\n",
    "class BayesExperiment:\n",
    "    \n",
    "    def __init__(self, disease_count):\n",
    "        self.disease_count = disease_count\n",
    "        \n",
    "        self.ill_positives = 0\n",
    "        self.ill_negatives = 0\n",
    "        self.health_positives = 0\n",
    "        self.health_negatives = 0\n",
    "\n",
    "    @property\n",
    "    def positives(self):\n",
    "        return self.ill_positives + self.health_positives\n",
    "\n",
    "    def _generate_population(self):\n",
    "        disease_probability = self.disease_count/population_size\n",
    "        health_probability = 1 - disease_probability\n",
    "        distribution = pyro.distributions.Categorical(probs=torch.tensor([health_probability, \n",
    "                                                                           disease_probability]))\n",
    "        population = [pyro.sample(\"population_distribution\", distribution) \n",
    "                      for _ in range(population_size)]\n",
    "        return population\n",
    "\n",
    "    def bayes_experiment(self):\n",
    "        population = self._generate_population()\n",
    "        for person_state in population:\n",
    "            self.perform_test(person_state)\n",
    "\n",
    "    def perform_test(self, person_state):\n",
    "        if person_state == 0:\n",
    "            self._perform_test(person_state, negative_for_health_probability, \n",
    "                               positive_for_health_probability, distribution_name=\"health test distribution\")\n",
    "        else:\n",
    "            self._perform_test(person_state, negative_for_ill_probability, \n",
    "                               positive_for_ill_probability, distribution_name=\"ill test distribution\")\n",
    "\n",
    "    def _perform_test(self, person_state, negative_probability, positive_probability, distribution_name=\"default\"):\n",
    "        test_result = pyro.sample(distribution_name, \n",
    "                                  pyro.distributions.Categorical(probs=torch.tensor([negative_probability, \n",
    "                                                                                      positive_probability])))\n",
    "        self._update_results(person_state, test_result)\n",
    "\n",
    "    def _update_results(self, person_state, test_result):\n",
    "        if person_state == test_result:\n",
    "            if person_state:\n",
    "                self.ill_positives += 1\n",
    "            else:\n",
    "                self.health_negatives += 1\n",
    "        else:\n",
    "            if person_state:\n",
    "                self.ill_negatives += 1\n",
    "            else:\n",
    "                self.health_positives += 1\n",
    "\n",
    "    def plot_data(self):\n",
    "        trace0 = go.Bar(\n",
    "            x=['Ill positives', 'Health positives', 'Ill negatives', 'Health negatives'],\n",
    "            y=[self.ill_positives, self.health_positives, self.ill_negatives, self.health_negatives],\n",
    "            name='Bayes experiment',\n",
    "            marker=dict(\n",
    "                color='rgb(49,130,189)'\n",
    "            )\n",
    "        )\n",
    "\n",
    "        data = [trace0]\n",
    "        layout = go.Layout(\n",
    "            xaxis=dict(tickangle=-45),\n",
    "            barmode='group',\n",
    "        )\n",
    "\n",
    "        fig = go.Figure(data=data, layout=layout)\n",
    "        iplot(fig, filename='angled-text-bar')\n",
    "\n"
   ]
  },
  {
   "cell_type": "code",
   "execution_count": 31,
   "metadata": {},
   "outputs": [
    {
     "name": "stdout",
     "output_type": "stream",
     "text": [
      "936 \n",
      "14 \n",
      "965 \n",
      "48085 \n",
      "\n",
      "0.49237243556023147\n",
      "0.5025380710659898\n"
     ]
    },
    {
     "data": {
      "application/vnd.plotly.v1+json": {
       "config": {
        "linkText": "Export to plot.ly",
        "plotlyServerURL": "https://plot.ly",
        "showLink": false
       },
       "data": [
        {
         "marker": {
          "color": "rgb(49,130,189)"
         },
         "name": "Bayes experiment",
         "type": "bar",
         "uid": "a0b4be85-be37-4562-adeb-fe8513daeee3",
         "x": [
          "Ill positives",
          "Health positives",
          "Ill negatives",
          "Health negatives"
         ],
         "y": [
          936,
          965,
          14,
          48085
         ]
        }
       ],
       "layout": {
        "barmode": "group",
        "xaxis": {
         "tickangle": -45
        }
       }
      },
      "text/html": [
       "<div id=\"9e0bb604-7a8d-479e-a74c-4ce35f41c1d3\" style=\"height: 525px; width: 100%;\" class=\"plotly-graph-div\"></div><script type=\"text/javascript\">require([\"plotly\"], function(Plotly) { window.PLOTLYENV=window.PLOTLYENV || {};window.PLOTLYENV.BASE_URL=\"https://plot.ly\";Plotly.newPlot(\"9e0bb604-7a8d-479e-a74c-4ce35f41c1d3\", [{\"marker\": {\"color\": \"rgb(49,130,189)\"}, \"name\": \"Bayes experiment\", \"x\": [\"Ill positives\", \"Health positives\", \"Ill negatives\", \"Health negatives\"], \"y\": [936, 965, 14, 48085], \"type\": \"bar\", \"uid\": \"a0b4be85-be37-4562-adeb-fe8513daeee3\"}], {\"barmode\": \"group\", \"xaxis\": {\"tickangle\": -45}}, {\"showLink\": false, \"linkText\": \"Export to plot.ly\", \"plotlyServerURL\": \"https://plot.ly\"})});</script><script type=\"text/javascript\">window.addEventListener(\"resize\", function(){window._Plotly.Plots.resize(document.getElementById(\"9e0bb604-7a8d-479e-a74c-4ce35f41c1d3\"));});</script>"
      ],
      "text/vnd.plotly.v1+html": [
       "<div id=\"9e0bb604-7a8d-479e-a74c-4ce35f41c1d3\" style=\"height: 525px; width: 100%;\" class=\"plotly-graph-div\"></div><script type=\"text/javascript\">require([\"plotly\"], function(Plotly) { window.PLOTLYENV=window.PLOTLYENV || {};window.PLOTLYENV.BASE_URL=\"https://plot.ly\";Plotly.newPlot(\"9e0bb604-7a8d-479e-a74c-4ce35f41c1d3\", [{\"marker\": {\"color\": \"rgb(49,130,189)\"}, \"name\": \"Bayes experiment\", \"x\": [\"Ill positives\", \"Health positives\", \"Ill negatives\", \"Health negatives\"], \"y\": [936, 965, 14, 48085], \"type\": \"bar\", \"uid\": \"a0b4be85-be37-4562-adeb-fe8513daeee3\"}], {\"barmode\": \"group\", \"xaxis\": {\"tickangle\": -45}}, {\"showLink\": false, \"linkText\": \"Export to plot.ly\", \"plotlyServerURL\": \"https://plot.ly\"})});</script><script type=\"text/javascript\">window.addEventListener(\"resize\", function(){window._Plotly.Plots.resize(document.getElementById(\"9e0bb604-7a8d-479e-a74c-4ce35f41c1d3\"));});</script>"
      ]
     },
     "metadata": {},
     "output_type": "display_data"
    }
   ],
   "source": [
    "disease_count = 1000\n",
    "\n",
    "experiment = BayesExperiment(disease_count)\n",
    "experiment.bayes_experiment()\n",
    "print(f\"{experiment.ill_positives} \\n\"\n",
    "      f\"{experiment.ill_negatives} \\n\"\n",
    "      f\"{experiment.health_positives} \\n\"\n",
    "      f\"{experiment.health_negatives} \\n\")\n",
    "print(f\"{experiment.ill_positives/experiment.positives}\")\n",
    "print(naive_bayes(disease_count))\n",
    "experiment.plot_data()"
   ]
  },
  {
   "cell_type": "code",
   "execution_count": null,
   "metadata": {},
   "outputs": [],
   "source": []
  }
 ],
 "metadata": {
  "kernelspec": {
   "display_name": "Python 3",
   "language": "python",
   "name": "python3"
  },
  "language_info": {
   "codemirror_mode": {
    "name": "ipython",
    "version": 3
   },
   "file_extension": ".py",
   "mimetype": "text/x-python",
   "name": "python",
   "nbconvert_exporter": "python",
   "pygments_lexer": "ipython3",
   "version": "3.6.8"
  }
 },
 "nbformat": 4,
 "nbformat_minor": 2
}
