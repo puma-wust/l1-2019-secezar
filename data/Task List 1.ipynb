{
 "cells": [
  {
   "cell_type": "markdown",
   "metadata": {},
   "source": [
    "# 2018/2019 - Task List 1\n",
    "\n",
    "1. Generate random variable from prefered dystribution using Pyro (pyro.sample)\n",
    "    \n",
    "    - animate how distribution of values changes\n",
    "    - animate histograms of values\n",
    "    - start with empty list of values, generate new samples, generate histogram\n",
    "    \n",
    "    \n",
    "2. Write a simulator (and exact solution utilizing Bayes theorem) for chances to be ill on a certain disease. We know that it affects from about 1 to 100 out of 50,000 people. There was developed a test to check whether the person has the disease and it is quite accurate: the probability that the test result is positive (suggesting the person has the disease), given that the person does not have the disease, is only 2 percent; the probability that the test result is negative (suggesting the person does not have the disease), given that the person has the disease, is only 1 percent. When a random person gets tested for the disease and the result comes back positive, what is the probability that the person has the disease? Check whole parameter space and visualise results.\n",
    "\n",
    "    - it must be a simulator!\n",
    "    - sample from distribution using given probabilities\n",
    "    - repeate experiment and compare with Bayes equation\n"
   ]
  },
  {
   "cell_type": "markdown",
   "metadata": {},
   "source": [
    "## Required imports"
   ]
  },
  {
   "cell_type": "code",
   "execution_count": null,
   "metadata": {},
   "outputs": [],
   "source": [
    "%matplotlib inline\n",
    "import pyro\n",
    "import torch\n",
    "import numpy as np\n",
    "import matplotlib.pyplot as plt\n",
    "\n",
    "from matplotlib import animation, rc\n",
    "from IPython.display import HTML"
   ]
  },
  {
   "cell_type": "markdown",
   "metadata": {},
   "source": [
    "## Generating single value from normal distribution with given mean and variance"
   ]
  },
  {
   "cell_type": "code",
   "execution_count": null,
   "metadata": {},
   "outputs": [],
   "source": [
    "mean = 0\n",
    "variance = 10\n",
    "x = pyro.sample(\"normal_sampling\", pyro.distributions.Normal(mean, variance))\n",
    "print(x)"
   ]
  },
  {
   "cell_type": "markdown",
   "metadata": {},
   "source": [
    "## Sampling from categorical probabilities with given probabilities"
   ]
  },
  {
   "cell_type": "code",
   "execution_count": null,
   "metadata": {},
   "outputs": [],
   "source": [
    "x = pyro.sample(\"categorical_sampling\", pyro.distributions.Categorical(logits = torch.tensor([0.5, 0.5])))\n",
    "print(x)"
   ]
  },
  {
   "cell_type": "markdown",
   "metadata": {},
   "source": [
    "## Animating data"
   ]
  },
  {
   "cell_type": "code",
   "execution_count": null,
   "metadata": {},
   "outputs": [],
   "source": [
    "def animate():\n",
    "    # First set up the figure, the axis, and the plot element we want to animate\n",
    "    fig, ax = plt.subplots()\n",
    "\n",
    "    ax.set_xlim((-2, 2))\n",
    "    ax.set_ylim((0, 4))\n",
    "\n",
    "    line, = ax.plot([], [], lw=2)\n",
    "    \n",
    "    # animation function. This is called sequentially\n",
    "    def sin(variance):\n",
    "        mean = 0\n",
    "        x = [pyro.sample(\"normal_sampling\", pyro.distributions.Normal(mean, variance)) for _ in range(100)]\n",
    "        line = plt.hist(x, density=True, bins=30)\n",
    "        return (line,)\n",
    "\n",
    "    # initialization function: plot the background of each frame\n",
    "    def init():\n",
    "        line.set_data([], [])\n",
    "        return (line,)\n",
    "    # call the animator. blit=True means only re-draw the parts that have changed.\n",
    "    anim = animation.FuncAnimation(fig, sin, init_func=init,\n",
    "                                   frames=100, interval=20, blit=True)\n",
    "    return HTML(anim.to_jshtml())\n",
    "\n",
    "animate()"
   ]
  },
  {
   "cell_type": "markdown",
   "metadata": {},
   "source": [
    "\n",
    "## Drawing histogram"
   ]
  },
  {
   "cell_type": "code",
   "execution_count": null,
   "metadata": {},
   "outputs": [],
   "source": [
    "x = np.random.normal(size = 1000)\n",
    "plt.hist(x, density=True, bins=30)\n",
    "plt.ylabel('Probability');"
   ]
  },
  {
   "cell_type": "markdown",
   "metadata": {},
   "source": [
    "## Task 1"
   ]
  },
  {
   "cell_type": "code",
   "execution_count": null,
   "metadata": {},
   "outputs": [],
   "source": [
    "## Insert solution here\n",
    "\n",
    "mean = 0\n",
    "variances_count = 10\n",
    "\n",
    "def animate():\n",
    "    def update_hist(variance, mean):\n",
    "        x = [pyro.sample(\"normal_sampling\", pyro.distributions.Normal(mean, variance)) for _ in range(500)]\n",
    "        plt.cla()\n",
    "        plt.hist(x, bins=30)\n",
    "\n",
    "    fig = plt.figure()\n",
    "    hist = plt.hist([])\n",
    "\n",
    "    anim = animation.FuncAnimation(fig, update_hist, variances_count, fargs=(mean,))\n",
    "    return HTML(anim.to_jshtml())\n",
    "\n",
    "animate()"
   ]
  },
  {
   "cell_type": "markdown",
   "metadata": {},
   "source": [
    "## Task 2"
   ]
  },
  {
   "cell_type": "code",
   "execution_count": null,
   "metadata": {},
   "outputs": [],
   "source": [
    "## Insert solution here"
   ]
  },
  {
   "cell_type": "code",
   "execution_count": null,
   "metadata": {},
   "outputs": [],
   "source": []
  }
 ],
 "metadata": {
  "kernelspec": {
   "display_name": "Python 3",
   "language": "python",
   "name": "python3"
  },
  "language_info": {
   "codemirror_mode": {
    "name": "ipython",
    "version": 3
   },
   "file_extension": ".py",
   "mimetype": "text/x-python",
   "name": "python",
   "nbconvert_exporter": "python",
   "pygments_lexer": "ipython3",
   "version": "3.6.8"
  }
 },
 "nbformat": 4,
 "nbformat_minor": 2
}
